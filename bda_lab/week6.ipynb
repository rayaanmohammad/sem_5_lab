{
 "cells": [
  {
   "cell_type": "code",
   "execution_count": 5,
   "id": "7ff7dcdb-f0e6-467f-9a11-af5b32c1413e",
   "metadata": {},
   "outputs": [
    {
     "name": "stdout",
     "output_type": "stream",
     "text": [
      "+---+------------------+------+--------------+-----+\n",
      "|age|            income|gender|marital_status|label|\n",
      "+---+------------------+------+--------------+-----+\n",
      "| 51|23703.570699519765|     F|        Single|    0|\n",
      "| 43|118994.01530315925|     M|       Married|    1|\n",
      "| 49| 23292.26600156681|     M|       Married|    0|\n",
      "| 32|22782.329451253994|     F|       Married|    0|\n",
      "| 31|101042.92559140343|     M|       Married|    0|\n",
      "+---+------------------+------+--------------+-----+\n",
      "only showing top 5 rows\n",
      "\n"
     ]
    },
    {
     "name": "stderr",
     "output_type": "stream",
     "text": [
      "24/09/14 14:12:28 WARN SparkSession: Using an existing Spark session; only runtime SQL configurations will take effect.\n"
     ]
    }
   ],
   "source": [
    "import random\n",
    "import pandas as pd\n",
    "from pyspark.sql import SparkSession\n",
    "from pyspark.sql.types import StructType, StructField, IntegerType, StringType, DoubleType\n",
    "\n",
    "# Initialize Spark session\n",
    "spark = SparkSession.builder \\\n",
    "    .appName(\"LargeDatasetExample\") \\\n",
    "    .getOrCreate()\n",
    "\n",
    "# Function to generate random data\n",
    "def generate_data(num_rows):\n",
    "    data = []\n",
    "    for _ in range(num_rows):\n",
    "        age = random.randint(18, 65)\n",
    "        income = random.uniform(20000, 120000)\n",
    "        gender = random.choice(['M', 'F'])\n",
    "        marital_status = random.choice(['Single', 'Married'])\n",
    "        label = random.choice([0, 1])\n",
    "        data.append((age, income, gender, marital_status, label))\n",
    "    return data\n",
    "\n",
    "# Define schema\n",
    "schema = StructType([\n",
    "    StructField(\"age\", IntegerType(), True),\n",
    "    StructField(\"income\", DoubleType(), True),\n",
    "    StructField(\"gender\", StringType(), True),\n",
    "    StructField(\"marital_status\", StringType(), True),\n",
    "    StructField(\"label\", IntegerType(), True)\n",
    "])\n",
    "\n",
    "# Generate and convert data to PySpark DataFrame\n",
    "num_rows = 1000\n",
    "data = generate_data(num_rows)\n",
    "df = spark.createDataFrame(data, schema)\n",
    "\n",
    "# Show the first few rows of the DataFrame\n",
    "df.show(5)\n"
   ]
  },
  {
   "cell_type": "code",
   "execution_count": 6,
   "id": "b03d1735-3288-42eb-83dd-a23dad2d43d8",
   "metadata": {},
   "outputs": [
    {
     "name": "stdout",
     "output_type": "stream",
     "text": [
      "+---+------------------+-----+------------+--------------------+--------------------+\n",
      "|age|            income|label|gender_index|marital_status_index|            features|\n",
      "+---+------------------+-----+------------+--------------------+--------------------+\n",
      "| 51|23703.570699519765|    0|         0.0|                 1.0|[51.0,23703.57069...|\n",
      "| 43|118994.01530315925|    1|         1.0|                 0.0|[43.0,118994.0153...|\n",
      "| 49| 23292.26600156681|    0|         1.0|                 0.0|[49.0,23292.26600...|\n",
      "| 32|22782.329451253994|    0|         0.0|                 0.0|[32.0,22782.32945...|\n",
      "| 31|101042.92559140343|    0|         1.0|                 0.0|[31.0,101042.9255...|\n",
      "+---+------------------+-----+------------+--------------------+--------------------+\n",
      "only showing top 5 rows\n",
      "\n"
     ]
    }
   ],
   "source": [
    "from pyspark.ml.feature import StringIndexer, VectorAssembler\n",
    "from pyspark.ml import Pipeline\n",
    "from pyspark.sql.functions import col, when\n",
    "\n",
    "# For demonstration, handling missing values (even though the data has no missing values)\n",
    "# Placeholder step\n",
    "from pyspark.ml.feature import Imputer\n",
    "imputer = Imputer(inputCols=['age', 'income'], outputCols=['age', 'income'])\n",
    "df = imputer.fit(df).transform(df)\n",
    "\n",
    "# Convert categorical columns to numeric indices\n",
    "indexers = [\n",
    "    StringIndexer(inputCol=\"gender\", outputCol=\"gender_index\"),\n",
    "    StringIndexer(inputCol=\"marital_status\", outputCol=\"marital_status_index\")\n",
    "]\n",
    "pipeline = Pipeline(stages=indexers)\n",
    "df = pipeline.fit(df).transform(df)\n",
    "\n",
    "# Drop the original categorical columns\n",
    "df = df.drop(\"gender\", \"marital_status\")\n",
    "\n",
    "# Assemble features into a single feature vector\n",
    "assembler = VectorAssembler(inputCols=['age', 'income', 'gender_index', 'marital_status_index'], outputCol='features')\n",
    "df = assembler.transform(df)\n",
    "\n",
    "# Show the transformed DataFrame\n",
    "df.show(5)\n"
   ]
  },
  {
   "cell_type": "code",
   "execution_count": 7,
   "id": "d7ccd0c1-239e-4ca8-a239-8ab07da4633e",
   "metadata": {},
   "outputs": [
    {
     "name": "stdout",
     "output_type": "stream",
     "text": [
      "+-----+----------+\n",
      "|label|prediction|\n",
      "+-----+----------+\n",
      "|    0|       0.0|\n",
      "|    0|       0.0|\n",
      "|    1|       0.0|\n",
      "|    0|       0.0|\n",
      "|    0|       0.0|\n",
      "|    0|       1.0|\n",
      "|    0|       0.0|\n",
      "|    1|       1.0|\n",
      "|    0|       1.0|\n",
      "|    0|       1.0|\n",
      "+-----+----------+\n",
      "only showing top 10 rows\n",
      "\n"
     ]
    }
   ],
   "source": [
    "from pyspark.ml.classification import DecisionTreeClassifier\n",
    "\n",
    "# Split data into training and testing sets\n",
    "(trainingData, testData) = df.randomSplit([0.8, 0.2], seed=1234)\n",
    "\n",
    "# Initialize and train the Decision Tree model\n",
    "dt = DecisionTreeClassifier(labelCol='label', featuresCol='features')\n",
    "model = dt.fit(trainingData)\n",
    "\n",
    "# Make predictions on the test data\n",
    "predictions = model.transform(testData)\n",
    "\n",
    "# Show predictions\n",
    "predictions.select('label', 'prediction').show(10)\n"
   ]
  },
  {
   "cell_type": "code",
   "execution_count": 8,
   "id": "f06bb38f-80c1-4d85-9d26-3191a0eab4b9",
   "metadata": {},
   "outputs": [
    {
     "name": "stdout",
     "output_type": "stream",
     "text": [
      "Accuracy = 0.4744897959183674\n",
      "Precision = 0.5058823529411764\n",
      "Recall = 0.41346153846153844\n"
     ]
    }
   ],
   "source": [
    "from pyspark.ml.evaluation import MulticlassClassificationEvaluator\n",
    "\n",
    "# Initialize evaluators for accuracy, precision, and recall\n",
    "evaluator_accuracy = MulticlassClassificationEvaluator(\n",
    "    labelCol='label', predictionCol='prediction', metricName='accuracy')\n",
    "\n",
    "evaluator_precision = MulticlassClassificationEvaluator(\n",
    "    labelCol='label', predictionCol='prediction', metricName='precisionByLabel')\n",
    "\n",
    "evaluator_recall = MulticlassClassificationEvaluator(\n",
    "    labelCol='label', predictionCol='prediction', metricName='recallByLabel')\n",
    "\n",
    "# Calculate metrics\n",
    "accuracy = evaluator_accuracy.evaluate(predictions)\n",
    "precision = evaluator_precision.evaluate(predictions)\n",
    "recall = evaluator_recall.evaluate(predictions)\n",
    "\n",
    "print(f\"Accuracy = {accuracy}\")\n",
    "print(f\"Precision = {precision}\")\n",
    "print(f\"Recall = {recall}\")\n"
   ]
  },
  {
   "cell_type": "code",
   "execution_count": null,
   "id": "98c628d4-6622-4bb1-a2a4-7f5f5adae8f1",
   "metadata": {},
   "outputs": [],
   "source": []
  }
 ],
 "metadata": {
  "kernelspec": {
   "display_name": "Python 3 (ipykernel)",
   "language": "python",
   "name": "python3"
  },
  "language_info": {
   "codemirror_mode": {
    "name": "ipython",
    "version": 3
   },
   "file_extension": ".py",
   "mimetype": "text/x-python",
   "name": "python",
   "nbconvert_exporter": "python",
   "pygments_lexer": "ipython3",
   "version": "3.10.12"
  }
 },
 "nbformat": 4,
 "nbformat_minor": 5
}
